{
 "cells": [
  {
   "cell_type": "code",
   "execution_count": 2,
   "metadata": {
    "id": "OZvDOeG-Rxnt"
   },
   "outputs": [],
   "source": [
    "# !pip install english_words\n",
    "from english_words import english_words_set"
   ]
  },
  {
   "cell_type": "code",
   "execution_count": 3,
   "metadata": {
    "colab": {
     "base_uri": "https://localhost:8080/"
    },
    "id": "hR-eC7lcsA2i",
    "outputId": "e809b76d-887f-410e-e2ad-b6b1a9b34d96"
   },
   "outputs": [
    {
     "data": {
      "text/plain": [
       "False"
      ]
     },
     "execution_count": 3,
     "metadata": {},
     "output_type": "execute_result"
    }
   ],
   "source": [
    "'carer' in english_words_set #??"
   ]
  },
  {
   "cell_type": "markdown",
   "metadata": {
    "id": "swQNGi2Xe3Xe"
   },
   "source": [
    "# preprocessing words from en dict"
   ]
  },
  {
   "cell_type": "code",
   "execution_count": 5,
   "metadata": {
    "colab": {
     "base_uri": "https://localhost:8080/"
    },
    "id": "LczlfRk3Szbu",
    "outputId": "b5e0c92d-96ed-4ee0-bb4d-6ce6a1c8294b"
   },
   "outputs": [
    {
     "name": "stdout",
     "output_type": "stream",
     "text": [
      "5417\n",
      "['tramp', 'radii', 'umbra', 'idle', 'gold', 'mutt', 'debra', 'shone', 'manic', 'snort']\n"
     ]
    }
   ],
   "source": [
    "#select 4 or 5 letter words\n",
    "init_words_list = [x for x in  english_words_set if (len(x) == 4) or (len(x) == 5)]\n",
    "print(len(init_words_list))\n",
    "\n",
    "# remove punctuation from en dict ex. wasn't\n",
    "PUNCT_TO_REMOVE = ['\\'','.','&']\n",
    "words_list = []\n",
    "for w in init_words_list:\n",
    "    j = 0\n",
    "    for p in PUNCT_TO_REMOVE:\n",
    "        if p in w:\n",
    "            j = 1\n",
    "            break\n",
    "    if j == 0:    \n",
    "        words_list.append(w)\n",
    "\n",
    "#letter to lowercase\n",
    "lower_word_list = [x.lower() for x in words_list]\n",
    "print(lower_word_list[:10])"
   ]
  },
  {
   "cell_type": "code",
   "execution_count": 8,
   "metadata": {
    "id": "SeTR7Jb9pdgl"
   },
   "outputs": [
    {
     "data": {
      "text/plain": [
       "{'e': 2527,\n",
       " 'a': 2420,\n",
       " 'o': 1726,\n",
       " 'r': 1633,\n",
       " 'l': 1596,\n",
       " 'i': 1447,\n",
       " 't': 1436,\n",
       " 's': 1406,\n",
       " 'n': 1333,\n",
       " 'u': 969,\n",
       " 'c': 923,\n",
       " 'd': 843,\n",
       " 'h': 806,\n",
       " 'y': 768,\n",
       " 'm': 755,\n",
       " 'p': 750,\n",
       " 'b': 671,\n",
       " 'g': 627,\n",
       " 'k': 529,\n",
       " 'f': 469,\n",
       " 'w': 421,\n",
       " 'v': 300,\n",
       " 'j': 115,\n",
       " 'z': 115,\n",
       " 'x': 101,\n",
       " 'q': 46}"
      ]
     },
     "execution_count": 8,
     "metadata": {},
     "output_type": "execute_result"
    }
   ],
   "source": [
    "count_dict = {}\n",
    "for word in lower_word_list:\n",
    "    for _letter in word:\n",
    "        if _letter not in count_dict:\n",
    "            count_dict[_letter] = 0\n",
    "        else:\n",
    "            count_dict[_letter] += 1\n",
    "            \n",
    "#most freq letter\n",
    "{k: v for k, v in sorted(count_dict.items() , key=lambda item: item[1], reverse = True)}\n",
    "#recommend guess: reals(check if is single or plural) > point > ducky"
   ]
  },
  {
   "cell_type": "markdown",
   "metadata": {
    "id": "ptyGxwoSfH3n"
   },
   "source": [
    "# check word length"
   ]
  },
  {
   "cell_type": "code",
   "execution_count": 22,
   "metadata": {},
   "outputs": [],
   "source": [
    "word_length = 5 #some words are plural ex. words\n",
    "confirm_letter = 'aict'\n",
    "wrong_letter = 'relsponduky'\n",
    "wrong_pos = {\n",
    "#     0: 'r',\n",
    "    2: 'a',\n",
    "    2: 'i',\n",
    "#     3: 'c',\n",
    "    4: 't'\n",
    "}\n",
    "\n",
    "correct_pos = {\n",
    "#     0: 'p',\n",
    "#     1: 'e',\n",
    "#     2: 'a',\n",
    "    2: 'c',\n",
    "#     4: 't'\n",
    "}"
   ]
  },
  {
   "cell_type": "code",
   "execution_count": 23,
   "metadata": {
    "colab": {
     "base_uri": "https://localhost:8080/"
    },
    "id": "8bkPjT6qaLAC",
    "outputId": "8a3e0441-e48e-4fa2-935d-204408171320"
   },
   "outputs": [
    {
     "name": "stdout",
     "output_type": "stream",
     "text": [
      "==========================================================================================\n",
      "check target word length... \n",
      "total remained words: 3194\n",
      "==========================================================================================\n",
      "==========================================================================================\n",
      "check confirmed letter... \n",
      "total found:  6\n",
      "['dicta', 'attic', 'utica', 'antic', 'cacti', 'tacit']\n",
      "==========================================================================================\n",
      "==========================================================================================\n",
      "remove wrong letter... \n",
      "total found:  3\n",
      "['attic', 'cacti', 'tacit']\n",
      "==========================================================================================\n",
      "==========================================================================================\n",
      "remove wrong position letter... \n",
      "total found:  2\n",
      "['attic', 'cacti']\n",
      "==========================================================================================\n",
      "==========================================================================================\n",
      "select correct position letter... \n",
      "total found:  1\n",
      "['cacti']\n",
      "==========================================================================================\n"
     ]
    }
   ],
   "source": [
    "word_list = [x for x in lower_word_list if len(x) == word_length]\n",
    "\n",
    "print('==========================================================================================')\n",
    "print('check target word length... ')\n",
    "print('total remained words:', len(word_list))\n",
    "print('==========================================================================================')\n",
    "confirmed_letter_res = []\n",
    "confirm_letter_len = len(confirm_letter)\n",
    "\n",
    "for _word in word_list:\n",
    "    test_count = 0\n",
    "    for confirm in confirm_letter:\n",
    "        if confirm in _word:\n",
    "            test_count += 1\n",
    "    if test_count == confirm_letter_len:\n",
    "        confirmed_letter_res.append(_word)\n",
    "print('==========================================================================================')\n",
    "print('check confirmed letter... ')\n",
    "print('total found: ', len(confirmed_letter_res))\n",
    "print(confirmed_letter_res)\n",
    "print('==========================================================================================')\n",
    "\n",
    "rm_wrong_res = []\n",
    "for _word in confirmed_letter_res:\n",
    "    is_target = 1\n",
    "    for letter in wrong_letter:\n",
    "        if letter in _word:\n",
    "            is_target = 0\n",
    "            break\n",
    "    if is_target == 1:\n",
    "        rm_wrong_res.append(_word)\n",
    "print('==========================================================================================')\n",
    "print('remove wrong letter... ')\n",
    "print('total found: ', len(rm_wrong_res))\n",
    "print(rm_wrong_res)\n",
    "print('==========================================================================================')\n",
    "\n",
    "rm_wrong_pos_res = []\n",
    "wrong_pos_len = len(wrong_pos)\n",
    "\n",
    "for _word in rm_wrong_res:\n",
    "    _count = 0\n",
    "    for condition in wrong_pos.items():\n",
    "        if _word[condition[0]] != condition[1]:\n",
    "            _count += 1\n",
    "    if _count == len(wrong_pos):\n",
    "        rm_wrong_pos_res.append(_word)\n",
    "print('==========================================================================================')\n",
    "print('remove wrong position letter... ')\n",
    "print('total found: ', len(rm_wrong_pos_res))\n",
    "print(rm_wrong_pos_res)\n",
    "print('==========================================================================================')\n",
    "\n",
    "correct_pos_res = []\n",
    "correct_pos_len = len(correct_pos)\n",
    "\n",
    "for _word in rm_wrong_pos_res:\n",
    "    _count = 0\n",
    "    for condition in correct_pos.items():\n",
    "        if _word[condition[0]] == condition[1]:\n",
    "            _count += 1\n",
    "    if _count == len(correct_pos):\n",
    "        correct_pos_res.append(_word)\n",
    "print('==========================================================================================')\n",
    "print('select correct position letter... ')\n",
    "print('total found: ', len(correct_pos_res))\n",
    "print(correct_pos_res)\n",
    "print('==========================================================================================')"
   ]
  },
  {
   "cell_type": "code",
   "execution_count": null,
   "metadata": {
    "id": "UK-YZqG2lhlE"
   },
   "outputs": [],
   "source": []
  }
 ],
 "metadata": {
  "colab": {
   "collapsed_sections": [],
   "name": "wordle.ipynb",
   "provenance": []
  },
  "kernelspec": {
   "display_name": "Python 3 (ipykernel)",
   "language": "python",
   "name": "python3"
  },
  "language_info": {
   "codemirror_mode": {
    "name": "ipython",
    "version": 3
   },
   "file_extension": ".py",
   "mimetype": "text/x-python",
   "name": "python",
   "nbconvert_exporter": "python",
   "pygments_lexer": "ipython3",
   "version": "3.7.4"
  }
 },
 "nbformat": 4,
 "nbformat_minor": 1
}
