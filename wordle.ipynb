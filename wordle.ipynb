{
  "nbformat": 4,
  "nbformat_minor": 0,
  "metadata": {
    "colab": {
      "name": "wordle.ipynb",
      "provenance": [],
      "collapsed_sections": []
    },
    "kernelspec": {
      "name": "python3",
      "display_name": "Python 3"
    },
    "language_info": {
      "name": "python"
    }
  },
  "cells": [
    {
      "cell_type": "code",
      "source": [
        "!pip install english_words"
      ],
      "metadata": {
        "colab": {
          "base_uri": "https://localhost:8080/"
        },
        "id": "IP9s-WOcR067",
        "outputId": "2a7bcc60-69fc-4685-c8e0-0308e181e8f9"
      },
      "execution_count": 1,
      "outputs": [
        {
          "output_type": "stream",
          "name": "stdout",
          "text": [
            "Collecting english_words\n",
            "  Downloading english-words-1.1.0.tar.gz (1.1 MB)\n",
            "\u001b[?25l\r\u001b[K     |▎                               | 10 kB 25.0 MB/s eta 0:00:01\r\u001b[K     |▋                               | 20 kB 31.1 MB/s eta 0:00:01\r\u001b[K     |▉                               | 30 kB 37.5 MB/s eta 0:00:01\r\u001b[K     |█▏                              | 40 kB 41.9 MB/s eta 0:00:01\r\u001b[K     |█▌                              | 51 kB 42.3 MB/s eta 0:00:01\r\u001b[K     |█▊                              | 61 kB 29.5 MB/s eta 0:00:01\r\u001b[K     |██                              | 71 kB 25.3 MB/s eta 0:00:01\r\u001b[K     |██▍                             | 81 kB 26.4 MB/s eta 0:00:01\r\u001b[K     |██▋                             | 92 kB 25.3 MB/s eta 0:00:01\r\u001b[K     |███                             | 102 kB 26.0 MB/s eta 0:00:01\r\u001b[K     |███▎                            | 112 kB 26.0 MB/s eta 0:00:01\r\u001b[K     |███▌                            | 122 kB 26.0 MB/s eta 0:00:01\r\u001b[K     |███▉                            | 133 kB 26.0 MB/s eta 0:00:01\r\u001b[K     |████▏                           | 143 kB 26.0 MB/s eta 0:00:01\r\u001b[K     |████▍                           | 153 kB 26.0 MB/s eta 0:00:01\r\u001b[K     |████▊                           | 163 kB 26.0 MB/s eta 0:00:01\r\u001b[K     |█████                           | 174 kB 26.0 MB/s eta 0:00:01\r\u001b[K     |█████▎                          | 184 kB 26.0 MB/s eta 0:00:01\r\u001b[K     |█████▋                          | 194 kB 26.0 MB/s eta 0:00:01\r\u001b[K     |██████                          | 204 kB 26.0 MB/s eta 0:00:01\r\u001b[K     |██████▏                         | 215 kB 26.0 MB/s eta 0:00:01\r\u001b[K     |██████▌                         | 225 kB 26.0 MB/s eta 0:00:01\r\u001b[K     |██████▉                         | 235 kB 26.0 MB/s eta 0:00:01\r\u001b[K     |███████                         | 245 kB 26.0 MB/s eta 0:00:01\r\u001b[K     |███████▍                        | 256 kB 26.0 MB/s eta 0:00:01\r\u001b[K     |███████▊                        | 266 kB 26.0 MB/s eta 0:00:01\r\u001b[K     |████████                        | 276 kB 26.0 MB/s eta 0:00:01\r\u001b[K     |████████▎                       | 286 kB 26.0 MB/s eta 0:00:01\r\u001b[K     |████████▋                       | 296 kB 26.0 MB/s eta 0:00:01\r\u001b[K     |████████▉                       | 307 kB 26.0 MB/s eta 0:00:01\r\u001b[K     |█████████▏                      | 317 kB 26.0 MB/s eta 0:00:01\r\u001b[K     |█████████▌                      | 327 kB 26.0 MB/s eta 0:00:01\r\u001b[K     |█████████▊                      | 337 kB 26.0 MB/s eta 0:00:01\r\u001b[K     |██████████                      | 348 kB 26.0 MB/s eta 0:00:01\r\u001b[K     |██████████▍                     | 358 kB 26.0 MB/s eta 0:00:01\r\u001b[K     |██████████▋                     | 368 kB 26.0 MB/s eta 0:00:01\r\u001b[K     |███████████                     | 378 kB 26.0 MB/s eta 0:00:01\r\u001b[K     |███████████▎                    | 389 kB 26.0 MB/s eta 0:00:01\r\u001b[K     |███████████▌                    | 399 kB 26.0 MB/s eta 0:00:01\r\u001b[K     |███████████▉                    | 409 kB 26.0 MB/s eta 0:00:01\r\u001b[K     |████████████▏                   | 419 kB 26.0 MB/s eta 0:00:01\r\u001b[K     |████████████▍                   | 430 kB 26.0 MB/s eta 0:00:01\r\u001b[K     |████████████▊                   | 440 kB 26.0 MB/s eta 0:00:01\r\u001b[K     |█████████████                   | 450 kB 26.0 MB/s eta 0:00:01\r\u001b[K     |█████████████▎                  | 460 kB 26.0 MB/s eta 0:00:01\r\u001b[K     |█████████████▋                  | 471 kB 26.0 MB/s eta 0:00:01\r\u001b[K     |██████████████                  | 481 kB 26.0 MB/s eta 0:00:01\r\u001b[K     |██████████████▏                 | 491 kB 26.0 MB/s eta 0:00:01\r\u001b[K     |██████████████▌                 | 501 kB 26.0 MB/s eta 0:00:01\r\u001b[K     |██████████████▉                 | 512 kB 26.0 MB/s eta 0:00:01\r\u001b[K     |███████████████                 | 522 kB 26.0 MB/s eta 0:00:01\r\u001b[K     |███████████████▍                | 532 kB 26.0 MB/s eta 0:00:01\r\u001b[K     |███████████████▋                | 542 kB 26.0 MB/s eta 0:00:01\r\u001b[K     |████████████████                | 552 kB 26.0 MB/s eta 0:00:01\r\u001b[K     |████████████████▎               | 563 kB 26.0 MB/s eta 0:00:01\r\u001b[K     |████████████████▌               | 573 kB 26.0 MB/s eta 0:00:01\r\u001b[K     |████████████████▉               | 583 kB 26.0 MB/s eta 0:00:01\r\u001b[K     |█████████████████▏              | 593 kB 26.0 MB/s eta 0:00:01\r\u001b[K     |█████████████████▍              | 604 kB 26.0 MB/s eta 0:00:01\r\u001b[K     |█████████████████▊              | 614 kB 26.0 MB/s eta 0:00:01\r\u001b[K     |██████████████████              | 624 kB 26.0 MB/s eta 0:00:01\r\u001b[K     |██████████████████▎             | 634 kB 26.0 MB/s eta 0:00:01\r\u001b[K     |██████████████████▋             | 645 kB 26.0 MB/s eta 0:00:01\r\u001b[K     |███████████████████             | 655 kB 26.0 MB/s eta 0:00:01\r\u001b[K     |███████████████████▏            | 665 kB 26.0 MB/s eta 0:00:01\r\u001b[K     |███████████████████▌            | 675 kB 26.0 MB/s eta 0:00:01\r\u001b[K     |███████████████████▉            | 686 kB 26.0 MB/s eta 0:00:01\r\u001b[K     |████████████████████            | 696 kB 26.0 MB/s eta 0:00:01\r\u001b[K     |████████████████████▍           | 706 kB 26.0 MB/s eta 0:00:01\r\u001b[K     |████████████████████▊           | 716 kB 26.0 MB/s eta 0:00:01\r\u001b[K     |█████████████████████           | 727 kB 26.0 MB/s eta 0:00:01\r\u001b[K     |█████████████████████▎          | 737 kB 26.0 MB/s eta 0:00:01\r\u001b[K     |█████████████████████▋          | 747 kB 26.0 MB/s eta 0:00:01\r\u001b[K     |█████████████████████▉          | 757 kB 26.0 MB/s eta 0:00:01\r\u001b[K     |██████████████████████▏         | 768 kB 26.0 MB/s eta 0:00:01\r\u001b[K     |██████████████████████▌         | 778 kB 26.0 MB/s eta 0:00:01\r\u001b[K     |██████████████████████▊         | 788 kB 26.0 MB/s eta 0:00:01\r\u001b[K     |███████████████████████         | 798 kB 26.0 MB/s eta 0:00:01\r\u001b[K     |███████████████████████▍        | 808 kB 26.0 MB/s eta 0:00:01\r\u001b[K     |███████████████████████▋        | 819 kB 26.0 MB/s eta 0:00:01\r\u001b[K     |████████████████████████        | 829 kB 26.0 MB/s eta 0:00:01\r\u001b[K     |████████████████████████▎       | 839 kB 26.0 MB/s eta 0:00:01\r\u001b[K     |████████████████████████▌       | 849 kB 26.0 MB/s eta 0:00:01\r\u001b[K     |████████████████████████▉       | 860 kB 26.0 MB/s eta 0:00:01\r\u001b[K     |█████████████████████████▏      | 870 kB 26.0 MB/s eta 0:00:01\r\u001b[K     |█████████████████████████▍      | 880 kB 26.0 MB/s eta 0:00:01\r\u001b[K     |█████████████████████████▊      | 890 kB 26.0 MB/s eta 0:00:01\r\u001b[K     |██████████████████████████      | 901 kB 26.0 MB/s eta 0:00:01\r\u001b[K     |██████████████████████████▎     | 911 kB 26.0 MB/s eta 0:00:01\r\u001b[K     |██████████████████████████▋     | 921 kB 26.0 MB/s eta 0:00:01\r\u001b[K     |███████████████████████████     | 931 kB 26.0 MB/s eta 0:00:01\r\u001b[K     |███████████████████████████▏    | 942 kB 26.0 MB/s eta 0:00:01\r\u001b[K     |███████████████████████████▌    | 952 kB 26.0 MB/s eta 0:00:01\r\u001b[K     |███████████████████████████▉    | 962 kB 26.0 MB/s eta 0:00:01\r\u001b[K     |████████████████████████████    | 972 kB 26.0 MB/s eta 0:00:01\r\u001b[K     |████████████████████████████▍   | 983 kB 26.0 MB/s eta 0:00:01\r\u001b[K     |████████████████████████████▊   | 993 kB 26.0 MB/s eta 0:00:01\r\u001b[K     |█████████████████████████████   | 1.0 MB 26.0 MB/s eta 0:00:01\r\u001b[K     |█████████████████████████████▎  | 1.0 MB 26.0 MB/s eta 0:00:01\r\u001b[K     |█████████████████████████████▋  | 1.0 MB 26.0 MB/s eta 0:00:01\r\u001b[K     |█████████████████████████████▉  | 1.0 MB 26.0 MB/s eta 0:00:01\r\u001b[K     |██████████████████████████████▏ | 1.0 MB 26.0 MB/s eta 0:00:01\r\u001b[K     |██████████████████████████████▍ | 1.1 MB 26.0 MB/s eta 0:00:01\r\u001b[K     |██████████████████████████████▊ | 1.1 MB 26.0 MB/s eta 0:00:01\r\u001b[K     |███████████████████████████████ | 1.1 MB 26.0 MB/s eta 0:00:01\r\u001b[K     |███████████████████████████████▎| 1.1 MB 26.0 MB/s eta 0:00:01\r\u001b[K     |███████████████████████████████▋| 1.1 MB 26.0 MB/s eta 0:00:01\r\u001b[K     |████████████████████████████████| 1.1 MB 26.0 MB/s eta 0:00:01\r\u001b[K     |████████████████████████████████| 1.1 MB 26.0 MB/s \n",
            "\u001b[?25hBuilding wheels for collected packages: english-words\n",
            "  Building wheel for english-words (setup.py) ... \u001b[?25l\u001b[?25hdone\n",
            "  Created wheel for english-words: filename=english_words-1.1.0-py3-none-any.whl size=1106680 sha256=e3420a02b0bf386c10b738fc96c07b029a84c9ba18a185b4b5c08e43c54ef423\n",
            "  Stored in directory: /root/.cache/pip/wheels/25/3d/4c/12a119ce90b46b4f90f9ddf41d719ecabb40faec6103379fc8\n",
            "Successfully built english-words\n",
            "Installing collected packages: english-words\n",
            "Successfully installed english-words-1.1.0\n"
          ]
        }
      ]
    },
    {
      "cell_type": "code",
      "execution_count": 2,
      "metadata": {
        "id": "OZvDOeG-Rxnt"
      },
      "outputs": [],
      "source": [
        "from english_words import english_words_set"
      ]
    },
    {
      "cell_type": "code",
      "source": [
        "'carer' in english_words_set #??"
      ],
      "metadata": {
        "colab": {
          "base_uri": "https://localhost:8080/"
        },
        "id": "hR-eC7lcsA2i",
        "outputId": "e809b76d-887f-410e-e2ad-b6b1a9b34d96"
      },
      "execution_count": 18,
      "outputs": [
        {
          "output_type": "execute_result",
          "data": {
            "text/plain": [
              "False"
            ]
          },
          "metadata": {},
          "execution_count": 18
        }
      ]
    },
    {
      "cell_type": "markdown",
      "source": [
        "# preprocessing en dict"
      ],
      "metadata": {
        "id": "swQNGi2Xe3Xe"
      }
    },
    {
      "cell_type": "code",
      "source": [
        "data = [x for x in  english_words_set if (len(x) == 4) or (len(x) == 5)]\n",
        "print(len(data))\n",
        "\n",
        "PUNCT_TO_REMOVE = ['\\'','.']\n",
        "word_list = []\n",
        "for w in data:\n",
        "    j = 0\n",
        "    for p in PUNCT_TO_REMOVE:\n",
        "        if p in w:\n",
        "            j = 1\n",
        "            break\n",
        "    if j == 0:    \n",
        "        word_list.append(w)\n",
        "\n",
        "lower_word_list = [x.lower() for x in word_list]\n",
        "print(lower_word_list[:10])"
      ],
      "metadata": {
        "colab": {
          "base_uri": "https://localhost:8080/"
        },
        "id": "LczlfRk3Szbu",
        "outputId": "b5e0c92d-96ed-4ee0-bb4d-6ce6a1c8294b"
      },
      "execution_count": 35,
      "outputs": [
        {
          "output_type": "stream",
          "name": "stdout",
          "text": [
            "5417\n",
            "['vowel', 'bike', 'flake', 'frank', 'moat', 'blake', 'allen', 'smell', 'sikh', 'long']\n"
          ]
        }
      ]
    },
    {
      "cell_type": "code",
      "source": [
        "count_dict = {}\n",
        "for word in word_list:\n",
        "    for _letter in word:\n",
        "        if _letter not in count_dict:\n",
        "            count_dict[_letter] = 0\n",
        "        else:\n",
        "            count_dict[_letter] += 1"
      ],
      "metadata": {
        "id": "SeTR7Jb9pdgl"
      },
      "execution_count": 10,
      "outputs": []
    },
    {
      "cell_type": "code",
      "source": [
        "#most freq letter\n",
        "print({k: v for k, v in sorted(count_dict.items(), key=lambda item: item[1])})"
      ],
      "metadata": {
        "colab": {
          "base_uri": "https://localhost:8080/"
        },
        "id": "gHne97uCp5as",
        "outputId": "ff60b462-6274-4d40-cbf9-f856440ffa9d"
      },
      "execution_count": 12,
      "outputs": [
        {
          "output_type": "stream",
          "name": "stdout",
          "text": [
            "{'q': 37, 'j': 57, 'x': 66, 'z': 71, 'v': 191, 'w': 226, 'f': 273, 'k': 297, 'g': 409, 'b': 422, 'p': 465, 'm': 466, 'd': 507, 'h': 531, 'y': 583, 'u': 608, 'c': 654, 'n': 863, 't': 939, 'i': 943, 's': 954, 'l': 996, 'o': 1047, 'r': 1123, 'a': 1545, 'e': 1671}\n"
          ]
        }
      ]
    },
    {
      "cell_type": "markdown",
      "source": [
        "# start"
      ],
      "metadata": {
        "id": "214VYL-JX6PE"
      }
    },
    {
      "cell_type": "code",
      "source": [
        "#reals > point > ducky"
      ],
      "metadata": {
        "id": "47U3z83Twi1p"
      },
      "execution_count": 50,
      "outputs": []
    },
    {
      "cell_type": "markdown",
      "source": [
        "# check word length"
      ],
      "metadata": {
        "id": "ptyGxwoSfH3n"
      }
    },
    {
      "cell_type": "code",
      "source": [
        "#some words are plural ex. words\n",
        "word_length = 5\n",
        "word_list = [x for x in lower_word_list if len(x) == word_length]\n",
        "print(len(word_list))"
      ],
      "metadata": {
        "colab": {
          "base_uri": "https://localhost:8080/"
        },
        "id": "MoK8memWfLuu",
        "outputId": "cadba7fb-1c22-49d1-80e9-a7b4c1f174fe"
      },
      "execution_count": 51,
      "outputs": [
        {
          "output_type": "stream",
          "name": "stdout",
          "text": [
            "3194\n"
          ]
        }
      ]
    },
    {
      "cell_type": "markdown",
      "source": [
        "#check confirm letter"
      ],
      "metadata": {
        "id": "btaRI5W1b_5A"
      }
    },
    {
      "cell_type": "code",
      "source": [
        "result_word = []\n",
        "conf_letter = 'eict'\n",
        "conf_letter_len = len(conf_letter)\n",
        "\n",
        "for _word in word_list:\n",
        "    test_count = 0\n",
        "    for conf in conf_letter:\n",
        "        # print(conf)\n",
        "        if conf in _word:\n",
        "            # print(conf)\n",
        "            test_count += 1\n",
        "    # print(test_count)\n",
        "    if test_count == conf_letter_len:\n",
        "        # print(_word)\n",
        "        result_word.append(_word)\n",
        "print(len(result_word))"
      ],
      "metadata": {
        "colab": {
          "base_uri": "https://localhost:8080/"
        },
        "id": "8bkPjT6qaLAC",
        "outputId": "8a3e0441-e48e-4fa2-935d-204408171320"
      },
      "execution_count": 64,
      "outputs": [
        {
          "output_type": "stream",
          "name": "stdout",
          "text": [
            "5\n"
          ]
        }
      ]
    },
    {
      "cell_type": "code",
      "source": [
        "if len(result_word) <10:\n",
        "    print(result_word)"
      ],
      "metadata": {
        "colab": {
          "base_uri": "https://localhost:8080/"
        },
        "id": "NU2xU9kzdw5B",
        "outputId": "4075e90d-423c-4a62-cee7-cbcafa484e10"
      },
      "execution_count": 63,
      "outputs": [
        {
          "output_type": "stream",
          "name": "stdout",
          "text": [
            "['snack']\n"
          ]
        }
      ]
    },
    {
      "cell_type": "code",
      "source": [
        "exc_letter = 'ralsponduky'\n",
        "result_word2 = []\n",
        "\n",
        "for _word in result_word:\n",
        "    is_target = 1\n",
        "    for letter in exc_letter:\n",
        "        # print(conf)\n",
        "        if letter in _word:\n",
        "            # print(letter, _word)\n",
        "            is_target = 0\n",
        "            break\n",
        "    # print(test_count)\n",
        "    if is_target == 1:\n",
        "        # print(_word)\n",
        "        result_word2.append(_word)\n",
        "print(len(result_word2))"
      ],
      "metadata": {
        "colab": {
          "base_uri": "https://localhost:8080/"
        },
        "id": "G9vrZxUQc8zT",
        "outputId": "1237e08a-26c0-4b25-89d2-75ba9f4f8b97"
      },
      "execution_count": 65,
      "outputs": [
        {
          "output_type": "stream",
          "name": "stdout",
          "text": [
            "4\n"
          ]
        }
      ]
    },
    {
      "cell_type": "code",
      "source": [
        "result_word2"
      ],
      "metadata": {
        "colab": {
          "base_uri": "https://localhost:8080/"
        },
        "id": "vGlhmSnrfcwQ",
        "outputId": "773ab7e4-6de2-44d8-c00f-8dbfd3b2f555"
      },
      "execution_count": 66,
      "outputs": [
        {
          "output_type": "execute_result",
          "data": {
            "text/plain": [
              "['ethic', 'twice', 'civet', 'evict']"
            ]
          },
          "metadata": {},
          "execution_count": 66
        }
      ]
    },
    {
      "cell_type": "code",
      "source": [
        "res2 = []\n",
        "wrong_pos = {\n",
        "    # 0:'r',\n",
        "    1:'e',\n",
        "    2:'c',\n",
        "    4:'t'\n",
        "}\n",
        "\n",
        "wrong_pos_len = len(wrong_pos)\n",
        "for _word in result_word2:\n",
        "    _count = 0\n",
        "    for _condi in wrong_pos.items():\n",
        "        if _word[_condi[0]] != _condi[1]:\n",
        "            _count += 1\n",
        "            # print(test_word)\n",
        "    if _count == len(wrong_pos):\n",
        "        # print(_count)\n",
        "        res2.append(_word)\n",
        "print(len(res2))"
      ],
      "metadata": {
        "colab": {
          "base_uri": "https://localhost:8080/"
        },
        "id": "ul9TNNJCslLR",
        "outputId": "30f211ce-33d1-4e8e-e33e-85b295da66b5"
      },
      "execution_count": 68,
      "outputs": [
        {
          "output_type": "stream",
          "name": "stdout",
          "text": [
            "2\n"
          ]
        }
      ]
    },
    {
      "cell_type": "code",
      "source": [
        "# if len(result_wor2) < 10:\n",
        "#     print(result_word)\n",
        "res2"
      ],
      "metadata": {
        "colab": {
          "base_uri": "https://localhost:8080/"
        },
        "id": "6aIQNEyEtI0_",
        "outputId": "ac871548-ba2f-4244-8ec7-96ad61162595"
      },
      "execution_count": 69,
      "outputs": [
        {
          "output_type": "execute_result",
          "data": {
            "text/plain": [
              "['ethic', 'twice']"
            ]
          },
          "metadata": {},
          "execution_count": 69
        }
      ]
    },
    {
      "cell_type": "code",
      "source": [
        "res3 = []\n",
        "correct_pos = {\n",
        "    # 1: 'u',\n",
        "    2: 'i'\n",
        "    }\n",
        "\n",
        "correct_pos_len = len(correct_pos)\n",
        "for _word in res2:\n",
        "    _count = 0\n",
        "    for _condi in correct_pos.items():\n",
        "        if _word[_condi[0]] == _condi[1]:\n",
        "            _count += 1\n",
        "            # print(test_word)\n",
        "    if _count == len(correct_pos):\n",
        "        # print(_count)\n",
        "        res3.append(_word)\n",
        "print(len(res3))"
      ],
      "metadata": {
        "colab": {
          "base_uri": "https://localhost:8080/"
        },
        "id": "Qcpls1zST1gu",
        "outputId": "5c9826ad-cebd-4692-a506-8def1696dbc2"
      },
      "execution_count": 72,
      "outputs": [
        {
          "output_type": "stream",
          "name": "stdout",
          "text": [
            "1\n"
          ]
        }
      ]
    },
    {
      "cell_type": "code",
      "source": [
        "res3"
      ],
      "metadata": {
        "colab": {
          "base_uri": "https://localhost:8080/"
        },
        "id": "cm--ajcCUQdc",
        "outputId": "cc656d8c-3248-47bb-effa-b3480dc90e7f"
      },
      "execution_count": 73,
      "outputs": [
        {
          "output_type": "execute_result",
          "data": {
            "text/plain": [
              "['twice']"
            ]
          },
          "metadata": {},
          "execution_count": 73
        }
      ]
    },
    {
      "cell_type": "code",
      "source": [
        ""
      ],
      "metadata": {
        "id": "UK-YZqG2lhlE"
      },
      "execution_count": null,
      "outputs": []
    }
  ]
}